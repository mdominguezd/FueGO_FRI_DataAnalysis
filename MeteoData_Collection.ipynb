{
 "cells": [
  {
   "cell_type": "code",
   "execution_count": 8,
   "id": "289a0e09-5f63-4158-a2e5-d3adfe3fe6d6",
   "metadata": {},
   "outputs": [],
   "source": [
    "import pandas as pd\n",
    "import numpy as np\n",
    "from statsmodels.regression.linear_model import OLS\n",
    "from statsmodels.discrete.discrete_model import Logit\n",
    "import matplotlib.pyplot as plt"
   ]
  },
  {
   "cell_type": "markdown",
   "id": "a5812ccb-1367-411a-b63f-b39157e5f11c",
   "metadata": {},
   "source": [
    "# Data collection\n",
    "## Params and dates studied"
   ]
  },
  {
   "cell_type": "code",
   "execution_count": 9,
   "id": "4e91286c-dcef-4091-8ba9-e45ed38063f1",
   "metadata": {},
   "outputs": [],
   "source": [
    "params = ['HR_AVG_1.5m','TA_AVG_0.1m','PP_SUM_1.5m']\n",
    "begin = '01/05/2022'\n",
    "end = '01/09/2022'"
   ]
  },
  {
   "cell_type": "code",
   "execution_count": 10,
   "id": "433ab2e2-4039-4764-b673-14981edc85d6",
   "metadata": {},
   "outputs": [],
   "source": [
    "DF = pd.read_json('https://servizos.meteogalicia.gal/mgrss/observacion/datosMensuaisEstacionsMeteo.action?idParam='+params[0]+','+params[1]+','+params[2]+'&dataIni='+begin+'&dataFin='+end)"
   ]
  },
  {
   "cell_type": "markdown",
   "id": "009296fb-2def-4e7f-80ed-eb23d9fb9880",
   "metadata": {},
   "source": [
    "## Export XY coordinates of meteorological stations"
   ]
  },
  {
   "cell_type": "code",
   "execution_count": 11,
   "id": "caa84e7b-61ca-4a49-a33e-d62a8e9649ec",
   "metadata": {},
   "outputs": [],
   "source": [
    "pd.DataFrame(DF.iloc[0][0]['listaEstacions'])[['estacion','idEstacion','utmx','utmy']].to_csv('Estaciones_XY.csv')"
   ]
  },
  {
   "cell_type": "markdown",
   "id": "f7c36f1a-f1a9-4c55-ae78-5f8a509d1d2c",
   "metadata": {},
   "source": [
    "## Create a DataFrame with values of each parameter"
   ]
  },
  {
   "cell_type": "code",
   "execution_count": 12,
   "id": "63577953-e85a-46c8-85d1-57da5240e175",
   "metadata": {},
   "outputs": [],
   "source": [
    "df_data = []\n",
    "\n",
    "for k in range(len(DF)): #Iteration over 12 months\n",
    "    for i in range(len(pd.DataFrame(DF.iloc[k][0]['listaEstacions'])['listaMedidas'])): #Iteration over 155 stations\n",
    "        \n",
    "        date = DF.iloc[k][0]['data'][:7]\n",
    "        idEst = DF.iloc[k][0]['listaEstacions'][i]['idEstacion']\n",
    "        nameEst = DF.iloc[k][0]['listaEstacions'][i]['estacion']\n",
    "        \n",
    "        if (len(pd.DataFrame(DF.iloc[k][0]['listaEstacions'])['listaMedidas'].iloc[i]) == 3): # Take only data of stations that have Temp, Prec  HR\n",
    "            if ((pd.DataFrame(DF.iloc[k][0]['listaEstacions'])['listaMedidas'].iloc[i][1]['valor'] > 0) \n",
    "                & (pd.DataFrame(DF.iloc[k][0]['listaEstacions'])['listaMedidas'].iloc[i][2]['valor'] > -9990)\n",
    "                & (pd.DataFrame(DF.iloc[k][0]['listaEstacions'])['listaMedidas'].iloc[i][0]['valor'] > 0)): #Take only data without measurement errors\n",
    "                \n",
    "                df_data.append([date, idEst, nameEst, \n",
    "                                pd.DataFrame(DF.iloc[k][0]['listaEstacions'])['listaMedidas'].iloc[i][0]['valor'], \n",
    "                                pd.DataFrame(DF.iloc[k][0]['listaEstacions'])['listaMedidas'].iloc[i][1]['valor'],\n",
    "                                pd.DataFrame(DF.iloc[k][0]['listaEstacions'])['listaMedidas'].iloc[i][2]['valor']\n",
    "                               ])\n",
    "            \n",
    "df_data = pd.DataFrame(df_data)\n",
    "df_data.columns = ['date','id','name','RH_AVG_1.5','PP_SUM','TA_AVG_0.1m']"
   ]
  },
  {
   "cell_type": "markdown",
   "id": "f3900ba5-5d1f-4053-adba-59b17204c10c",
   "metadata": {},
   "source": [
    "## Export aggregated parameters (RH and TA = aggregated by mean) (PP aggregated by sum)"
   ]
  },
  {
   "cell_type": "code",
   "execution_count": 13,
   "id": "7e73f3bb-3c69-494c-9586-d6284923ff3d",
   "metadata": {},
   "outputs": [],
   "source": [
    "df_data.groupby('id').mean().iloc[:,[0,2]].to_csv('RH_n_TA_AVG.csv')\n",
    "prec = pd.DataFrame(df_data.groupby('id').sum().iloc[:,1])\n",
    "prec['PP_SUM'] = prec['PP_SUM']/4\n",
    "prec.to_csv('PP_sum.csv')"
   ]
  },
  {
   "cell_type": "markdown",
   "id": "58bc05a2-acfa-459d-b982-2e598908a417",
   "metadata": {},
   "source": [
    "# Linear regression analysis"
   ]
  },
  {
   "cell_type": "code",
   "execution_count": 14,
   "id": "81a549c6-75ff-4a4a-ac58-e3c27f7b9fa1",
   "metadata": {},
   "outputs": [
    {
     "data": {
      "text/html": [
       "<table class=\"simpletable\">\n",
       "<caption>OLS Regression Results</caption>\n",
       "<tr>\n",
       "  <th>Dep. Variable:</th>       <td>BurnedArea</td>    <th>  R-squared (uncentered):</th>      <td>   0.491</td>\n",
       "</tr>\n",
       "<tr>\n",
       "  <th>Model:</th>                   <td>OLS</td>       <th>  Adj. R-squared (uncentered):</th> <td>   0.468</td>\n",
       "</tr>\n",
       "<tr>\n",
       "  <th>Method:</th>             <td>Least Squares</td>  <th>  F-statistic:       </th>          <td>   21.92</td>\n",
       "</tr>\n",
       "<tr>\n",
       "  <th>Date:</th>             <td>Thu, 06 Oct 2022</td> <th>  Prob (F-statistic):</th>          <td>1.09e-12</td>\n",
       "</tr>\n",
       "<tr>\n",
       "  <th>Time:</th>                 <td>20:37:20</td>     <th>  Log-Likelihood:    </th>          <td> -910.89</td>\n",
       "</tr>\n",
       "<tr>\n",
       "  <th>No. Observations:</th>      <td>    95</td>      <th>  AIC:               </th>          <td>   1830.</td>\n",
       "</tr>\n",
       "<tr>\n",
       "  <th>Df Residuals:</th>          <td>    91</td>      <th>  BIC:               </th>          <td>   1840.</td>\n",
       "</tr>\n",
       "<tr>\n",
       "  <th>Df Model:</th>              <td>     4</td>      <th>                     </th>              <td> </td>   \n",
       "</tr>\n",
       "<tr>\n",
       "  <th>Covariance Type:</th>      <td>nonrobust</td>    <th>                     </th>              <td> </td>   \n",
       "</tr>\n",
       "</table>\n",
       "<table class=\"simpletable\">\n",
       "<tr>\n",
       "      <td></td>         <th>coef</th>     <th>std err</th>      <th>t</th>      <th>P>|t|</th>  <th>[0.025</th>    <th>0.975]</th>  \n",
       "</tr>\n",
       "<tr>\n",
       "  <th>MeanTemp</th>  <td> -175.2356</td> <td>  199.264</td> <td>   -0.879</td> <td> 0.381</td> <td> -571.049</td> <td>  220.578</td>\n",
       "</tr>\n",
       "<tr>\n",
       "  <th>MeanRH</th>    <td>   65.9213</td> <td>   67.246</td> <td>    0.980</td> <td> 0.330</td> <td>  -67.654</td> <td>  199.496</td>\n",
       "</tr>\n",
       "<tr>\n",
       "  <th>MeanPrec</th>  <td>  -23.0628</td> <td>    9.852</td> <td>   -2.341</td> <td> 0.021</td> <td>  -42.632</td> <td>   -3.493</td>\n",
       "</tr>\n",
       "<tr>\n",
       "  <th>MeanSlope</th> <td>  301.6451</td> <td>   45.059</td> <td>    6.695</td> <td> 0.000</td> <td>  212.142</td> <td>  391.148</td>\n",
       "</tr>\n",
       "</table>\n",
       "<table class=\"simpletable\">\n",
       "<tr>\n",
       "  <th>Omnibus:</th>       <td>10.743</td> <th>  Durbin-Watson:     </th> <td>   2.409</td>\n",
       "</tr>\n",
       "<tr>\n",
       "  <th>Prob(Omnibus):</th> <td> 0.005</td> <th>  Jarque-Bera (JB):  </th> <td>  10.880</td>\n",
       "</tr>\n",
       "<tr>\n",
       "  <th>Skew:</th>          <td> 0.746</td> <th>  Prob(JB):          </th> <td> 0.00434</td>\n",
       "</tr>\n",
       "<tr>\n",
       "  <th>Kurtosis:</th>      <td> 3.724</td> <th>  Cond. No.          </th> <td>    144.</td>\n",
       "</tr>\n",
       "</table><br/><br/>Notes:<br/>[1] R² is computed without centering (uncentered) since the model does not contain a constant.<br/>[2] Standard Errors assume that the covariance matrix of the errors is correctly specified."
      ],
      "text/plain": [
       "<class 'statsmodels.iolib.summary.Summary'>\n",
       "\"\"\"\n",
       "                                 OLS Regression Results                                \n",
       "=======================================================================================\n",
       "Dep. Variable:             BurnedArea   R-squared (uncentered):                   0.491\n",
       "Model:                            OLS   Adj. R-squared (uncentered):              0.468\n",
       "Method:                 Least Squares   F-statistic:                              21.92\n",
       "Date:                Thu, 06 Oct 2022   Prob (F-statistic):                    1.09e-12\n",
       "Time:                        20:37:20   Log-Likelihood:                         -910.89\n",
       "No. Observations:                  95   AIC:                                      1830.\n",
       "Df Residuals:                      91   BIC:                                      1840.\n",
       "Df Model:                           4                                                  \n",
       "Covariance Type:            nonrobust                                                  \n",
       "==============================================================================\n",
       "                 coef    std err          t      P>|t|      [0.025      0.975]\n",
       "------------------------------------------------------------------------------\n",
       "MeanTemp    -175.2356    199.264     -0.879      0.381    -571.049     220.578\n",
       "MeanRH        65.9213     67.246      0.980      0.330     -67.654     199.496\n",
       "MeanPrec     -23.0628      9.852     -2.341      0.021     -42.632      -3.493\n",
       "MeanSlope    301.6451     45.059      6.695      0.000     212.142     391.148\n",
       "==============================================================================\n",
       "Omnibus:                       10.743   Durbin-Watson:                   2.409\n",
       "Prob(Omnibus):                  0.005   Jarque-Bera (JB):               10.880\n",
       "Skew:                           0.746   Prob(JB):                      0.00434\n",
       "Kurtosis:                       3.724   Cond. No.                         144.\n",
       "==============================================================================\n",
       "\n",
       "Notes:\n",
       "[1] R² is computed without centering (uncentered) since the model does not contain a constant.\n",
       "[2] Standard Errors assume that the covariance matrix of the errors is correctly specified.\n",
       "\"\"\""
      ]
     },
     "execution_count": 14,
     "metadata": {},
     "output_type": "execute_result"
    }
   ],
   "source": [
    "DF = pd.read_excel('BurneArea_RegressionData.xls').iloc[:,[2, 10, 15, 20, 25]].dropna()\n",
    "DF.columns = ['BurnedArea','MeanTemp','MeanRH','MeanPrec','MeanSlope']\n",
    "DF['Constant'] = np.ones(len(DF))\n",
    "\n",
    "lin_model = OLS(DF['BurnedArea'], DF[['MeanTemp','MeanRH','MeanPrec','MeanSlope']]).fit()\n",
    "\n",
    "lin_model.summary()"
   ]
  }
 ],
 "metadata": {
  "kernelspec": {
   "display_name": "Python 3 (ipykernel)",
   "language": "python",
   "name": "python3"
  },
  "language_info": {
   "codemirror_mode": {
    "name": "ipython",
    "version": 3
   },
   "file_extension": ".py",
   "mimetype": "text/x-python",
   "name": "python",
   "nbconvert_exporter": "python",
   "pygments_lexer": "ipython3",
   "version": "3.9.13"
  }
 },
 "nbformat": 4,
 "nbformat_minor": 5
}
